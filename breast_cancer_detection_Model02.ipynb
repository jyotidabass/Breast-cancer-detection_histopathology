{
  "cells": [
    {
      "cell_type": "markdown",
      "metadata": {
        "id": "view-in-github",
        "colab_type": "text"
      },
      "source": [
        "<a href=\"https://colab.research.google.com/github/jyotidabass/Breast-cancer-detection_histopathology/blob/main/breast_cancer_detection_Model02.ipynb\" target=\"_parent\"><img src=\"https://colab.research.google.com/assets/colab-badge.svg\" alt=\"Open In Colab\"/></a>"
      ]
    },
    {
      "cell_type": "code",
      "execution_count": null,
      "metadata": {
        "id": "JSQfBWSY4ZL9",
        "outputId": "1094f846-7d18-4156-89d2-316536e5ecd1"
      },
      "outputs": [
        {
          "name": "stderr",
          "output_type": "stream",
          "text": [
            "Using TensorFlow backend.\n"
          ]
        }
      ],
      "source": [
        "import numpy as np\n",
        "import pandas as pd\n",
        "import tensorflow as tf\n",
        "import matplotlib.pylab as plt\n",
        "import seaborn as sns\n",
        "from glob import glob\n",
        "import fnmatch\n",
        "import cv2\n",
        "import sklearn\n",
        "from sklearn import model_selection\n",
        "from sklearn.model_selection import train_test_split, KFold, cross_val_score, StratifiedKFold, learning_curve, GridSearchCV\n",
        "from sklearn.metrics import confusion_matrix, make_scorer, accuracy_score\n",
        "import keras\n",
        "from keras import backend as K\n",
        "from keras.callbacks import Callback, EarlyStopping, ReduceLROnPlateau, ModelCheckpoint\n",
        "from keras.preprocessing.image import ImageDataGenerator\n",
        "from keras.utils import plot_model\n",
        "from keras.utils.np_utils import to_categorical\n",
        "from keras.utils.vis_utils import model_to_dot\n",
        "from keras.models import Sequential, model_from_json\n",
        "from keras.optimizers import SGD, RMSprop, Adam, Adagrad, Adadelta\n",
        "from keras.layers import Dense, Dropout, Embedding, SpatialDropout1D, Activation, Flatten, BatchNormalization, Conv2D, MaxPool2D, MaxPooling2D\n",
        "%matplotlib inline\n",
        "import random"
      ]
    },
    {
      "cell_type": "code",
      "execution_count": null,
      "metadata": {
        "id": "5CfLXjXG4ZMG",
        "outputId": "1b646a2f-6fd2-466b-fca3-14cee7dc754b"
      },
      "outputs": [
        {
          "name": "stdout",
          "output_type": "stream",
          "text": [
            "IDC_regular_ps50_idx5\\10253\\0\\10253_idx5_x1001_y1001_class0.png\n",
            "IDC_regular_ps50_idx5\\10253\\0\\10253_idx5_x1001_y1051_class0.png\n",
            "IDC_regular_ps50_idx5\\10253\\0\\10253_idx5_x1001_y1101_class0.png\n",
            "IDC_regular_ps50_idx5\\10253\\0\\10253_idx5_x1001_y1151_class0.png\n",
            "IDC_regular_ps50_idx5\\10253\\0\\10253_idx5_x1001_y1201_class0.png\n",
            "IDC_regular_ps50_idx5\\10253\\0\\10253_idx5_x1001_y1251_class0.png\n",
            "IDC_regular_ps50_idx5\\10253\\0\\10253_idx5_x1001_y1301_class0.png\n",
            "IDC_regular_ps50_idx5\\10253\\0\\10253_idx5_x1001_y1351_class0.png\n",
            "IDC_regular_ps50_idx5\\10253\\0\\10253_idx5_x1001_y1501_class0.png\n",
            "IDC_regular_ps50_idx5\\10253\\0\\10253_idx5_x1001_y1551_class0.png\n"
          ]
        }
      ],
      "source": [
        "# source: https://www.kaggle.com/paultimothymooney/predicting-idc-in-breast-cancer-histology-images/notebook\n",
        "imagePatches = glob('IDC_regular_ps50_idx5/**/*.png', recursive=True) # search pathname/folder to find .png files recursively then parse files\n",
        "for filename in imagePatches[0:10]:\n",
        "    print(filename)"
      ]
    },
    {
      "cell_type": "code",
      "execution_count": null,
      "metadata": {
        "id": "5FS7a7Gm4ZMI",
        "outputId": "df797f8c-d6d1-415d-a011-6cb600affe70"
      },
      "outputs": [
        {
          "data": {
            "image/png": "[encoded data removed]",
            "text/plain": [
              "<Figure size 432x288 with 1 Axes>"
            ]
          },
          "metadata": {
            "needs_background": "light"
          },
          "output_type": "display_data"
        }
      ],
      "source": [
        "image_name = \"IDC_regular_ps50_idx5/9135/1/9135_idx5_x1701_y1851_class1.png\" #Image to be used as query\n",
        "def plotImage(image_location):\n",
        "    image = cv2.imread(image_name)\n",
        "    image = cv2.resize(image, (50,50))\n",
        "    plt.imshow(cv2.cvtColor(image, cv2.COLOR_BGR2RGB)); plt.axis('off')\n",
        "    return\n",
        "plotImage(image_name)"
      ]
    },
    {
      "cell_type": "code",
      "execution_count": null,
      "metadata": {
        "id": "bFU-nDF54ZMK",
        "outputId": "3cf4b6c7-b9fd-491c-da92-e5f2c177430a"
      },
      "outputs": [
        {
          "name": "stdout",
          "output_type": "stream",
          "text": [
            "IDC(-)\n",
            "\n",
            " ['IDC_regular_ps50_idx5\\\\10253\\\\0\\\\10253_idx5_x1001_y1001_class0.png', 'IDC_regular_ps50_idx5\\\\10253\\\\0\\\\10253_idx5_x1001_y1051_class0.png', 'IDC_regular_ps50_idx5\\\\10253\\\\0\\\\10253_idx5_x1001_y1101_class0.png', 'IDC_regular_ps50_idx5\\\\10253\\\\0\\\\10253_idx5_x1001_y1151_class0.png', 'IDC_regular_ps50_idx5\\\\10253\\\\0\\\\10253_idx5_x1001_y1201_class0.png'] \n",
            "\n",
            "IDC(+)\n",
            "\n",
            " ['IDC_regular_ps50_idx5\\\\10253\\\\1\\\\10253_idx5_x501_y351_class1.png', 'IDC_regular_ps50_idx5\\\\10253\\\\1\\\\10253_idx5_x501_y401_class1.png', 'IDC_regular_ps50_idx5\\\\10253\\\\1\\\\10253_idx5_x551_y301_class1.png', 'IDC_regular_ps50_idx5\\\\10253\\\\1\\\\10253_idx5_x551_y351_class1.png', 'IDC_regular_ps50_idx5\\\\10253\\\\1\\\\10253_idx5_x551_y401_class1.png']\n"
          ]
        }
      ],
      "source": [
        "patternZero = '*class0.png'\n",
        "patternOne = '*class1.png'\n",
        "classZero = fnmatch.filter(imagePatches, patternZero) #filename pattern matching returns subset of list of names\n",
        "classOne = fnmatch.filter(imagePatches, patternOne)\n",
        "print(\"IDC(-)\\n\\n\",classZero[0:5],'\\n')\n",
        "print(\"IDC(+)\\n\\n\",classOne[0:5])"
      ]
    },
    {
      "cell_type": "code",
      "execution_count": null,
      "metadata": {
        "id": "ERHsJKZ_4ZML"
      },
      "outputs": [],
      "source": [
        "def proc_images(lowerIndex,upperIndex):\n",
        "    \"\"\"\n",
        "    Returns two arrays: \n",
        "        x is an array of resized images\n",
        "        y is an array of labels\n",
        "    \"\"\" \n",
        "    x = []\n",
        "    y = []\n",
        "    WIDTH = 50\n",
        "    HEIGHT = 50\n",
        "    for img in imagePatches[lowerIndex:upperIndex]:\n",
        "        full_size_image = cv2.imread(img)\n",
        "        x.append(cv2.resize(full_size_image, (WIDTH,HEIGHT), interpolation=cv2.INTER_CUBIC))\n",
        "        if img in classZero:\n",
        "            y.append(0)\n",
        "        elif img in classOne:\n",
        "            y.append(1)\n",
        "        else:\n",
        "            return\n",
        "    return x,y"
      ]
    },
    {
      "cell_type": "code",
      "execution_count": null,
      "metadata": {
        "id": "205m6azK4ZMN",
        "outputId": "d6ab4d0a-1ee0-4d5c-f9b8-30311bbf53df"
      },
      "outputs": [
        {
          "name": "stdout",
          "output_type": "stream",
          "text": [
            "Wall time: 0 ns\n"
          ]
        }
      ],
      "source": [
        "%time\n",
        "X,Y = proc_images(0,100000)\n",
        "df = pd.DataFrame()\n",
        "df[\"images\"]=X\n",
        "df[\"labels\"]=Y\n",
        "X2=df[\"images\"]\n",
        "Y2=df[\"labels\"]\n",
        "X2=np.array(X2)\n",
        "imgs0=[]\n",
        "imgs1=[]\n",
        "imgs0 = X2[Y2==0] # (0 = no IDC, 1 = IDC)\n",
        "imgs1 = X2[Y2==1] "
      ]
    },
    {
      "cell_type": "code",
      "execution_count": null,
      "metadata": {
        "id": "iDZQHcCm4ZMO",
        "outputId": "543c0e46-841e-4e25-fff6-78476e11d059"
      },
      "outputs": [
        {
          "name": "stdout",
          "output_type": "stream",
          "text": [
            "Total number of images: 100000\n",
            "Number of IDC(-) Images: 70901\n",
            "Number of IDC(+) Images: 29099\n",
            "Percentage of positive images: 29.10%\n",
            "Image shape (Width, Height, Channels): (50, 50, 3)\n"
          ]
        }
      ],
      "source": [
        "def describeData(a,b):\n",
        "    print('Total number of images: {}'.format(len(a)))\n",
        "    print('Number of IDC(-) Images: {}'.format(np.sum(b==0)))\n",
        "    print('Number of IDC(+) Images: {}'.format(np.sum(b==1)))\n",
        "    print('Percentage of positive images: {:.2f}%'.format(100*np.mean(b)))\n",
        "    print('Image shape (Width, Height, Channels): {}'.format(a[0].shape))\n",
        "describeData(X2,Y2)"
      ]
    },
    {
      "cell_type": "code",
      "execution_count": null,
      "metadata": {
        "id": "o_jg43oh4ZMP",
        "outputId": "0e3f0dcb-04f9-4fb4-83f7-b4abac34eb92"
      },
      "outputs": [
        {
          "name": "stdout",
          "output_type": "stream",
          "text": [
            "                                              images  labels\n",
            "0  [[[206, 164, 226], [196, 154, 224], [211, 175,...       0\n",
            "1  [[[197, 150, 219], [201, 158, 217], [205, 173,...       0\n",
            "2  [[[249, 245, 248], [248, 246, 248], [253, 246,...       0\n",
            "3  [[[249, 247, 249], [249, 247, 249], [249, 247,...       0\n",
            "4  [[[237, 231, 241], [245, 242, 246], [235, 222,...       0\n",
            "5  [[[248, 246, 248], [248, 246, 248], [248, 246,...       0\n",
            "6  [[[175, 120, 212], [145, 88, 175], [132, 72, 1...       0\n",
            "7  [[[87, 38, 142], [120, 94, 165], [195, 180, 21...       0\n",
            "8  [[[235, 228, 240], [242, 240, 246], [252, 244,...       0\n",
            "9  [[[238, 223, 242], [239, 235, 241], [250, 245,...       0\n",
            "\n",
            "{0: 'IDC(-)', 1: 'IDC(+)'}\n"
          ]
        }
      ],
      "source": [
        "dict_characters = {0: 'IDC(-)', 1: 'IDC(+)'}\n",
        "print(df.head(10))\n",
        "print(\"\")\n",
        "print(dict_characters)"
      ]
    },
    {
      "cell_type": "code",
      "execution_count": null,
      "metadata": {
        "id": "Uzq8n_zY4ZMR",
        "outputId": "e75d2be3-0153-4e6f-a58f-2d9d877b8d3b"
      },
      "outputs": [
        {
          "data": {
            "image/png": "[encoded data removed]",
            "text/plain": [
              "<Figure size 432x288 with 2 Axes>"
            ]
          },
          "metadata": {
            "needs_background": "light"
          },
          "output_type": "display_data"
        }
      ],
      "source": [
        "def plotOne(a,b):\n",
        "    \"\"\"\n",
        "    Plot one numpy array\n",
        "    \"\"\"\n",
        "    plt.subplot(1,2,1)\n",
        "    plt.title('IDC (-)')\n",
        "    plt.imshow(a[100])\n",
        "    plt.subplot(1,2,2)\n",
        "    plt.title('IDC (+)')\n",
        "    plt.imshow(b[100])\n",
        "plotOne(imgs0, imgs1) "
      ]
    },
    {
      "cell_type": "code",
      "execution_count": null,
      "metadata": {
        "id": "dn9_H25A4ZMS"
      },
      "outputs": [],
      "source": [
        "X=np.array(X)\n",
        "X=X/255.0\n",
        "\n",
        "X_train, Y_train, = (X, Y)"
      ]
    },
    {
      "cell_type": "code",
      "execution_count": null,
      "metadata": {
        "id": "Gr0i4dcY4ZMT",
        "outputId": "3106d029-a78e-48ad-934d-b25602e26d65"
      },
      "outputs": [
        {
          "name": "stdout",
          "output_type": "stream",
          "text": [
            "Train on 80000 samples, validate on 20000 samples\n",
            "Epoch 1/20\n",
            "80000/80000 [==============================] - 42s 522us/step - loss: 0.5978 - acc: 0.7291 - val_loss: 0.6762 - val_acc: 0.6272\n",
            "Epoch 2/20\n",
            "80000/80000 [==============================] - 42s 526us/step - loss: 0.5892 - acc: 0.7295 - val_loss: 0.6796 - val_acc: 0.6272\n",
            "Epoch 3/20\n",
            "80000/80000 [==============================] - 45s 560us/step - loss: 0.5885 - acc: 0.7295 - val_loss: 0.6671 - val_acc: 0.6272\n",
            "Epoch 4/20\n",
            "80000/80000 [==============================] - 44s 547us/step - loss: 0.5888 - acc: 0.7295 - val_loss: 0.6606 - val_acc: 0.6272\n",
            "Epoch 5/20\n",
            "80000/80000 [==============================] - 45s 557us/step - loss: 0.5879 - acc: 0.7295 - val_loss: 0.6666 - val_acc: 0.6272\n",
            "Epoch 6/20\n",
            "80000/80000 [==============================] - 45s 560us/step - loss: 0.5885 - acc: 0.7295 - val_loss: 0.6923 - val_acc: 0.6272\n",
            "Epoch 7/20\n",
            "80000/80000 [==============================] - 45s 561us/step - loss: 0.5880 - acc: 0.7295 - val_loss: 0.7306 - val_acc: 0.6272\n",
            "Epoch 8/20\n",
            "80000/80000 [==============================] - 44s 549us/step - loss: 0.5889 - acc: 0.7295 - val_loss: 0.6863 - val_acc: 0.6272\n",
            "Epoch 9/20\n",
            "80000/80000 [==============================] - 44s 552us/step - loss: 0.5881 - acc: 0.7295 - val_loss: 0.6952 - val_acc: 0.6272\n",
            "Epoch 10/20\n",
            "80000/80000 [==============================] - 44s 550us/step - loss: 0.5885 - acc: 0.7295 - val_loss: 0.6803 - val_acc: 0.6272\n",
            "Epoch 11/20\n",
            "80000/80000 [==============================] - 44s 547us/step - loss: 0.5889 - acc: 0.7295 - val_loss: 0.7085 - val_acc: 0.6272\n",
            "Epoch 12/20\n",
            "80000/80000 [==============================] - 43s 543us/step - loss: 0.5878 - acc: 0.7295 - val_loss: 0.6855 - val_acc: 0.6272\n",
            "Epoch 13/20\n",
            "80000/80000 [==============================] - 44s 547us/step - loss: 0.5888 - acc: 0.7295 - val_loss: 0.6641 - val_acc: 0.6272\n",
            "Epoch 14/20\n",
            "80000/80000 [==============================] - 44s 548us/step - loss: 0.5887 - acc: 0.7295 - val_loss: 0.7378 - val_acc: 0.6272\n",
            "Epoch 15/20\n",
            "80000/80000 [==============================] - 44s 548us/step - loss: 0.5881 - acc: 0.7295 - val_loss: 0.6971 - val_acc: 0.6272\n",
            "Epoch 16/20\n",
            "80000/80000 [==============================] - 44s 549us/step - loss: 0.5885 - acc: 0.7295 - val_loss: 0.6790 - val_acc: 0.6272\n",
            "Epoch 17/20\n",
            "80000/80000 [==============================] - 44s 545us/step - loss: 0.5890 - acc: 0.7295 - val_loss: 0.7192 - val_acc: 0.6272\n",
            "Epoch 18/20\n",
            "80000/80000 [==============================] - 44s 545us/step - loss: 0.5889 - acc: 0.7295 - val_loss: 0.7068 - val_acc: 0.6272\n",
            "Epoch 19/20\n",
            "80000/80000 [==============================] - 44s 547us/step - loss: 0.5886 - acc: 0.7295 - val_loss: 0.6856 - val_acc: 0.6272\n",
            "Epoch 20/20\n",
            "80000/80000 [==============================] - 44s 544us/step - loss: 0.5880 - acc: 0.7295 - val_loss: 0.6953 - val_acc: 0.6272\n",
            "dict_keys(['val_loss', 'val_acc', 'loss', 'acc'])\n",
            "_________________________________________________________________\n",
            "Layer (type)                 Output Shape              Param #   \n",
            "=================================================================\n",
            "flatten_1 (Flatten)          (None, 7500)              0         \n",
            "_________________________________________________________________\n",
            "dense_1 (Dense)              (None, 128)               960128    \n",
            "_________________________________________________________________\n",
            "dense_2 (Dense)              (None, 10)                1290      \n",
            "=================================================================\n",
            "Total params: 961,418\n",
            "Trainable params: 961,418\n",
            "Non-trainable params: 0\n",
            "_________________________________________________________________\n"
          ]
        }
      ],
      "source": [
        "#Source: (fashion MNIST) https://www.tensorflow.org/tutorials/keras/basic_classification\n",
        "from keras.models import Sequential\n",
        "from keras.layers import Dense\n",
        "from keras.layers import Conv2D\n",
        "from keras.layers import Flatten, Activation\n",
        "import keras.backend as K\n",
        "\n",
        "model=Sequential()\n",
        "\n",
        "model.add(Flatten(input_shape=(50, 50, 3)))\n",
        "model.add(Dense(128, activation='tanh'))\n",
        "model.add(Dense(10, activation='softmax'))\n",
        "\n",
        "#Source: (fashion MNIST) https://www.tensorflow.org/tutorials/keras/basic_classification\n",
        "model.compile(loss='sparse_categorical_crossentropy',\n",
        "                optimizer=('adam'),\n",
        "                 metrics=['accuracy'])\n",
        "             \n",
        "history = model.fit(X_train, Y_train, validation_split=0.20, epochs=20)\n",
        "print(history.history.keys())\n",
        "\n",
        "model.summary()"
      ]
    },
    {
      "cell_type": "code",
      "execution_count": null,
      "metadata": {
        "id": "kOmUY4Dj4ZMU",
        "outputId": "c0d576df-9e29-477d-d9b4-e5e68145fc70"
      },
      "outputs": [
        {
          "data": {
            "image/png": "[encoded data removed]",
            "text/plain": [
              "<Figure size 432x288 with 1 Axes>"
            ]
          },
          "metadata": {
            "needs_background": "light"
          },
          "output_type": "display_data"
        }
      ],
      "source": [
        "# source: https://keras.io/visualization/\n",
        "# summarize history for accuracy\n",
        "import matplotlib.pyplot as plt\n",
        "\n",
        "plt.plot(history.history['acc'])\n",
        "plt.plot(history.history['val_acc'])\n",
        "plt.title('model accuracy')\n",
        "plt.ylabel('accuracy')\n",
        "plt.xlabel('epoch')\n",
        "plt.legend(['train', 'test'], loc='upper left')\n",
        "plt.show()\n"
      ]
    },
    {
      "cell_type": "code",
      "execution_count": null,
      "metadata": {
        "id": "uO8hCTQ34ZMV",
        "outputId": "e678c703-7d2c-4dc3-e3a9-d96ad1bf172f"
      },
      "outputs": [
        {
          "data": {
            "image/png": "[encoded data removed]",
            "text/plain": [
              "<Figure size 432x288 with 1 Axes>"
            ]
          },
          "metadata": {
            "needs_background": "light"
          },
          "output_type": "display_data"
        }
      ],
      "source": [
        "# Summarize history for loss\n",
        "plt.plot(history.history['loss'])\n",
        "plt.plot(history.history['val_loss'])\n",
        "plt.title('model loss')\n",
        "plt.ylabel('loss')\n",
        "plt.xlabel('epoch')\n",
        "plt.legend(['train', 'test'], loc='upper left')\n",
        "plt.show()"
      ]
    },
    {
      "cell_type": "code",
      "execution_count": null,
      "metadata": {
        "id": "a62i7aT44ZMW"
      },
      "outputs": [],
      "source": [
        ""
      ]
    }
  ],
  "metadata": {
    "kernelspec": {
      "display_name": "Python 3",
      "language": "python",
      "name": "python3"
    },
    "language_info": {
      "codemirror_mode": {
        "name": "ipython",
        "version": 3
      },
      "file_extension": ".py",
      "mimetype": "text/x-python",
      "name": "python",
      "nbconvert_exporter": "python",
      "pygments_lexer": "ipython3",
      "version": "3.6.7"
    },
    "colab": {
      "name": "breast_cancer_detection_Model02.ipynb",
      "provenance": [],
      "include_colab_link": true
    }
  },
  "nbformat": 4,
  "nbformat_minor": 0
}